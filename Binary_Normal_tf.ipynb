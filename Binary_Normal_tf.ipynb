{
  "nbformat": 4,
  "nbformat_minor": 0,
  "metadata": {
    "colab": {
      "provenance": []
    },
    "kernelspec": {
      "name": "python3",
      "display_name": "Python 3"
    },
    "language_info": {
      "name": "python"
    }
  },
  "cells": [
    {
      "cell_type": "code",
      "execution_count": null,
      "metadata": {
        "id": "9irDiV5Y57v8"
      },
      "outputs": [],
      "source": [
        "pip install strawberryfields"
      ]
    },
    {
      "cell_type": "code",
      "source": [
        "import strawberryfields as sf\n",
        "import numpy as np\n",
        "import tensorflow as tf\n",
        "import matplotlib.pyplot as plt"
      ],
      "metadata": {
        "id": "fwQedl8E6TWn"
      },
      "execution_count": 2,
      "outputs": []
    },
    {
      "cell_type": "code",
      "source": [
        "from strawberryfields import ops\n",
        "from typing import NamedTuple"
      ],
      "metadata": {
        "id": "hWePqi2i6Z7p"
      },
      "execution_count": 18,
      "outputs": []
    },
    {
      "cell_type": "code",
      "source": [
        "class Dataset(NamedTuple):\n",
        "    trainX: np.array\n",
        "    trainY: np.array\n",
        "    testX: np.array\n",
        "    testY: np.array"
      ],
      "metadata": {
        "id": "FeVSUfb27Age"
      },
      "execution_count": 6,
      "outputs": []
    },
    {
      "cell_type": "code",
      "source": [
        "def make_dataset(classes_scales: tuple, intersect_rate: float) -> Dataset:\n",
        "    np.random.seed(0)\n",
        "    n=2\n",
        "\n",
        "    X0 = np.array([[-1, -1]]) + intersect_rate*np.random.randn(classes_scales[0], n)\n",
        "    X1 = np.array([[1, 1]]) + intersect_rate*np.random.randn(classes_scales[1], n)\n",
        "\n",
        "    #конкатенируем все в одну матрицу\n",
        "    #при этом по 20 точек оставим на тест/валидацию\n",
        "    sep0 = round(classes_scales[0]*0.1)\n",
        "    sep1 = round(classes_scales[1]*0.1)\n",
        "    X = np.vstack((X0[sep0:], X1[sep1:]))\n",
        "    ValX = np.vstack((X0[:sep0], X1[:sep1]))\n",
        "\n",
        "    #конкатенируем все в один столбец с соответствующими значениями для класса 0 или 1\n",
        "    y = np.hstack([[0]*(classes_scales[0]-sep0), [1]*(classes_scales[1]-sep1)])\n",
        "    ValY = np.hstack([[0]*sep0, [1]*sep1])\n",
        "\n",
        "    return Dataset(trainX=X, trainY=y, testX=ValX, testY=ValY)"
      ],
      "metadata": {
        "id": "JvqeD15Q7U8A"
      },
      "execution_count": 14,
      "outputs": []
    },
    {
      "cell_type": "code",
      "source": [
        "def visualize_dataset(dataset: Dataset):\n",
        "    colors = ['blue', 'red', 'yellow', 'green', 'black', 'pink', 'orange', 'purple']\n",
        "\n",
        "    for k in np.unique(dataset.trainY):\n",
        "        plt.plot(dataset.trainX[dataset.trainY == k, 0], dataset.trainX[dataset.trainY == k, 1], 'o', label='train class {}'.format(k), color=colors[k])\n",
        "\n",
        "    for k in np.unique(dataset.testY):\n",
        "        plt.plot(dataset.testX[dataset.testY == k, 0], dataset.testX[dataset.testY == k, 1], 'o', label='test class {}'.format(k), color=colors[k+4])\n",
        "\n",
        "    plt.legend(fontsize=7, ncol=1, facecolor='oldlace', edgecolor='r')\n",
        "    plt.show"
      ],
      "metadata": {
        "id": "v3zK0xmb-Mug"
      },
      "execution_count": 16,
      "outputs": []
    },
    {
      "cell_type": "code",
      "source": [
        "def circuit(X):\n",
        "    modes = 2\n",
        "    layers = 8\n",
        "    cutoff_dim = 6\n",
        "\n",
        "\n",
        "    # defining desired state (single photon state)\n",
        "    target_state = np.zeros(cutoff_dim)\n",
        "    target_state[1] = 1\n",
        "    target_state = tf.constant(target_state, dtype=tf.complex64)\n",
        "\n",
        "    # initialize engine and program\n",
        "    eng = sf.Engine(backend=\"tf\", backend_options={\"cutoff_dim\": cutoff_dim})\n",
        "    qnn = sf.Program(modes)\n",
        "\n",
        "    # initialize QNN weights\n",
        "    # weights = init_weights(modes, layers)\n",
        "    # num_params = np.prod(weights.shape)\n",
        "\n",
        "    # Create array of Strawberry Fields symbolic gate arguments, matching\n",
        "    # the size of the weights Variable.\n",
        "    # sf_params = np.arange(num_params).reshape(weights.shape).astype(np.str)\n",
        "    # sf_params = np.array([qnn.params(*i) for i in sf_params])\n",
        "\n",
        "    sq = qnn.params('sq')\n",
        "    x0, x1 = qnn.params(\"x0\"), qnn.params(\"x1\")\n",
        "\n",
        "    params = np.array([qnn.params(f'phi+{i}') for i in range(9)])\n",
        "    mapping = {p.name: tf.Variable(0.5) for p in params.flatten()}\n",
        "    mapping.update({'sq': tf.constant(1.5), 'x0': tf.Variable(0.5), 'x1': tf.Variable(0.2)})\n",
        "\n",
        "    with qnn.context as q:\n",
        "        # ops.Sgate(sq, X[:, 0]) | q[0]\n",
        "        # ops.Sgate(sq, X[:, 1]) | q[1]\n",
        "        ops.Sgate(sq, x0) | q[0]\n",
        "        ops.Sgate(sq, x1) | q[1]\n",
        "        ops.BSgate(params[0], params[7]) | (q[0], q[1])\n",
        "        ops.Dgate(params[1]) | q[0]\n",
        "        ops.Dgate(params[2]) | q[1]\n",
        "        ops.Pgate(params[3]) | q[0]\n",
        "        ops.Pgate(params[4]) | q[1]\n",
        "        ops.Kgate(params[5]) | q[0]\n",
        "        ops.Kgate(params[6]) | q[1]\n",
        "\n",
        "    result = eng.run(qnn, args=mapping)\n",
        "    print(result.state)"
      ],
      "metadata": {
        "id": "DqoBnR3yAKGD"
      },
      "execution_count": 63,
      "outputs": []
    },
    {
      "cell_type": "code",
      "source": [
        "circuit(np.array([[0.5, 0.1], [0.5, 0.5]]))"
      ],
      "metadata": {
        "colab": {
          "base_uri": "https://localhost:8080/"
        },
        "id": "lZbC_Dq5HOCw",
        "outputId": "8192e1f5-ef01-4b03-adcf-c908cfdfcb5c"
      },
      "execution_count": 64,
      "outputs": [
        {
          "output_type": "stream",
          "name": "stdout",
          "text": [
            "<FockStateTF: num_modes=2, cutoff=6, pure=True, batched=False, hbar=2, dtype=<dtype: 'complex64'>>\n"
          ]
        }
      ]
    },
    {
      "cell_type": "code",
      "source": [
        "class Model:\n",
        "    def __init__(self) -> None:\n",
        "        self.params, self.lr, self.steps = None, None, None\n",
        "\n",
        "    def fit(self, lr: float, steps: int, trainX: np.array, trainY: np.array, decay=None) -> None:\n",
        "        pass\n"
      ],
      "metadata": {
        "id": "R88xkzT49AFj"
      },
      "execution_count": null,
      "outputs": []
    },
    {
      "cell_type": "markdown",
      "source": [
        "##Training and Scoring"
      ],
      "metadata": {
        "id": "Yyz-CBtA9rUt"
      }
    },
    {
      "cell_type": "code",
      "source": [
        "dataset = make_dataset((100, 100), 0.5)\n",
        "visualize_dataset(dataset)"
      ],
      "metadata": {
        "colab": {
          "base_uri": "https://localhost:8080/",
          "height": 265
        },
        "id": "Hn6ehfuR9ucX",
        "outputId": "1692783c-1ab5-4583-b040-e8ed396e53d9"
      },
      "execution_count": 17,
      "outputs": [
        {
          "output_type": "display_data",
          "data": {
            "text/plain": [
              "<Figure size 432x288 with 1 Axes>"
            ],
            "image/png": "[encoded data removed]"
          },
          "metadata": {
            "needs_background": "light"
          }
        }
      ]
    }
  ]
}