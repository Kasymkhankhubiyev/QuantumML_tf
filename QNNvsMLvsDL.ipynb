{
  "nbformat": 4,
  "nbformat_minor": 0,
  "metadata": {
    "colab": {
      "provenance": []
    },
    "kernelspec": {
      "name": "python3",
      "display_name": "Python 3"
    },
    "language_info": {
      "name": "python"
    }
  },
  "cells": [
    {
      "cell_type": "code",
      "source": [
        "import numpy as np\n",
        "from typing import NamedTuple\n",
        "from sklearn.linear_model import LogisticRegression\n",
        "from sklearn.neighbors import KNeighborsClassifier\n",
        "from sklearn.metrics import accuracy_score\n",
        "import tensorflow as tf\n",
        "from tensorflow.keras import Sequential\n",
        "from tensorflow.keras.layers import Dense\n",
        "import matplotlib.pyplot as plt"
      ],
      "metadata": {
        "id": "j0gtnr5QvjX7"
      },
      "execution_count": 69,
      "outputs": []
    },
    {
      "cell_type": "code",
      "source": [
        "def plot_decision_boundary(model, arrayX, arrayY, N_gridpoints=14) -> None:\n",
        "\n",
        "    #разбиваем область на точки\n",
        "    _xx, _yy = np.linspace(-4, 4, N_gridpoints), np.linspace(-4, 4, N_gridpoints)\n",
        "\n",
        "    _zz = np.zeros_like(_xx)\n",
        "\n",
        "    # points = np.array([[_xx[i], _yy[i]] for i in range(len(_xx))])\n",
        "\n",
        "    points = []\n",
        "    for i in range(N_gridpoints):\n",
        "        for j in range(N_gridpoints):\n",
        "            points.append([_xx[i], _yy[j]])\n",
        "\n",
        "    _zz = np.round(model.predict(points).flatten())\n",
        "\n",
        "    _zz = [_zz[i] for i in range(len(_zz))]\n",
        "\n",
        "    colors = ['pink', 'purple']\n",
        "\n",
        "    # for k in np.unique(_zz):\n",
        "    #     plt.scatter(x=points[_zz == k][0], y=points[_zz == k][1], s=30, c=colors[k])\n",
        "    for i in range(len(points)):\n",
        "        if _zz[i] == 0:\n",
        "            plt.scatter(x=points[i][0], y=points[i][1], s=100, c=colors[0], marker='s')\n",
        "        elif _zz[i] == 1:\n",
        "            plt.scatter(x=points[i][0], y=points[i][1], s=100, c=colors[1], marker='s')\n",
        "\n",
        "    colors = ['red', 'yellow']\n",
        "\n",
        "    for k in np.unique(arrayY):\n",
        "        plt.plot(arrayX[arrayY == k, 0], arrayX[arrayY == k, 1], 'o', label='class {}'.format(k), color=colors[k])\n",
        "\n",
        "    # name = 'decision_boundary_test_plot'\n",
        "\n",
        "    plt.legend(fontsize=7, ncol=1, facecolor='oldlace', edgecolor='r')\n",
        "    plt.show()\n"
      ],
      "metadata": {
        "id": "BNDRUW1BsjrH"
      },
      "execution_count": 84,
      "outputs": []
    },
    {
      "cell_type": "markdown",
      "source": [
        "#Подготовка данных"
      ],
      "metadata": {
        "id": "SYH-_Xq2vYMs"
      }
    },
    {
      "cell_type": "code",
      "execution_count": 89,
      "metadata": {
        "id": "uDM78NcQvLSi"
      },
      "outputs": [],
      "source": [
        "class DataSet(NamedTuple):\n",
        "    trainX: list\n",
        "    trainY: list\n",
        "    testX: list\n",
        "    testY: list\n",
        "\n",
        "\n",
        "def create_normal_distributed_data(classes_scale: int, intersect_rate: float) -> DataSet:\n",
        "    np.random.seed(0)\n",
        "    l = classes_scale\n",
        "    n = 2\n",
        "    drop = intersect_rate\n",
        "\n",
        "    X1 = np.array([[-1, -1]]) + drop * np.random.randn(l, n)\n",
        "    X2 = np.array([[1, 1]]) + drop * np.random.randn(l, n)\n",
        "\n",
        "    # конкатенируем все в одну матрицу\n",
        "    # при этом по 20 точек оставим на тест/валидацию\n",
        "    X = np.vstack((X1[10:], X2[10:]))\n",
        "    ValX = np.vstack((X1[:10], X2[:10]))\n",
        "\n",
        "    # конкатенируем все в один столбец с соответствующими значениями для класса 0 или 1\n",
        "    y = np.hstack([[0] * (l - 10), [1] * (l - 10)])\n",
        "    ValY = np.hstack([[0] * 10, [1] * 10])\n",
        "\n",
        "    return DataSet(trainX=X, trainY=y, testX=ValX, testY=ValY)\n",
        "\n",
        "\n",
        "def create_data_set(classes_scale: int, intersect_rate: float) -> DataSet:\n",
        "    # из этого можно сделать некоторую общую библиотеку\n",
        "    return create_normal_distributed_data(classes_scale, intersect_rate)"
      ]
    },
    {
      "cell_type": "code",
      "source": [
        "dataset = create_data_set(100, 0.5)"
      ],
      "metadata": {
        "id": "Sp_VtCAgkNOO"
      },
      "execution_count": 72,
      "outputs": []
    },
    {
      "cell_type": "code",
      "source": [
        "lgr = LogisticRegression()\n",
        "lgr.fit(dataset.trainX, dataset.trainY)\n",
        "predictions = lgr.predict(dataset.testX)\n",
        "print(f'accuracy: {accuracy_score(predictions, dataset.testY)}')"
      ],
      "metadata": {
        "colab": {
          "base_uri": "https://localhost:8080/"
        },
        "id": "b5zGjoewkU5T",
        "outputId": "cd68e119-9fe9-42ed-9f26-b23437d9c904"
      },
      "execution_count": 23,
      "outputs": [
        {
          "output_type": "stream",
          "name": "stdout",
          "text": [
            "accuracy: 1.0\n"
          ]
        }
      ]
    },
    {
      "cell_type": "code",
      "source": [
        "knn = KNeighborsClassifier()\n",
        "knn.fit(dataset.trainX, dataset.trainY)\n",
        "predictions = knn.predict(dataset.testX)\n",
        "print(f'accuracy: {accuracy_score(predictions, dataset.testY)}')"
      ],
      "metadata": {
        "colab": {
          "base_uri": "https://localhost:8080/"
        },
        "id": "x1P8Y4QQnm5M",
        "outputId": "051013f6-6028-478b-e162-35655abf1f6c"
      },
      "execution_count": 38,
      "outputs": [
        {
          "output_type": "stream",
          "name": "stdout",
          "text": [
            "accuracy: 1.0\n"
          ]
        }
      ]
    },
    {
      "cell_type": "code",
      "source": [
        "model = Sequential([Dense(units=1, input_shape=[2])])\n",
        "model.compile(optimizer='sgd', loss='mean_squared_error')\n",
        "model.fit(dataset.trainX, dataset.trainY, epochs=100)\n",
        "predictions = model.predict(dataset.testX)\n",
        "print(f'accuracy: {accuracy_score(np.round(predictions.flatten()), dataset.testY)}')"
      ],
      "metadata": {
        "colab": {
          "base_uri": "https://localhost:8080/"
        },
        "id": "h1o2tVVEpRtS",
        "outputId": "23bd33b5-2374-464a-ee96-0af34ca11b4f"
      },
      "execution_count": 64,
      "outputs": [
        {
          "output_type": "stream",
          "name": "stdout",
          "text": [
            "Epoch 1/100\n",
            "6/6 [==============================] - 0s 2ms/step - loss: 0.5278\n",
            "Epoch 2/100\n",
            "6/6 [==============================] - 0s 3ms/step - loss: 0.3849\n",
            "Epoch 3/100\n",
            "6/6 [==============================] - 0s 3ms/step - loss: 0.2904\n",
            "Epoch 4/100\n",
            "6/6 [==============================] - 0s 4ms/step - loss: 0.2248\n",
            "Epoch 5/100\n",
            "6/6 [==============================] - 0s 2ms/step - loss: 0.1800\n",
            "Epoch 6/100\n",
            "6/6 [==============================] - 0s 2ms/step - loss: 0.1475\n",
            "Epoch 7/100\n",
            "6/6 [==============================] - 0s 2ms/step - loss: 0.1230\n",
            "Epoch 8/100\n",
            "6/6 [==============================] - 0s 3ms/step - loss: 0.1056\n",
            "Epoch 9/100\n",
            "6/6 [==============================] - 0s 3ms/step - loss: 0.0924\n",
            "Epoch 10/100\n",
            "6/6 [==============================] - 0s 3ms/step - loss: 0.0817\n",
            "Epoch 11/100\n",
            "6/6 [==============================] - 0s 2ms/step - loss: 0.0738\n",
            "Epoch 12/100\n",
            "6/6 [==============================] - 0s 3ms/step - loss: 0.0676\n",
            "Epoch 13/100\n",
            "6/6 [==============================] - 0s 2ms/step - loss: 0.0625\n",
            "Epoch 14/100\n",
            "6/6 [==============================] - 0s 2ms/step - loss: 0.0584\n",
            "Epoch 15/100\n",
            "6/6 [==============================] - 0s 3ms/step - loss: 0.0550\n",
            "Epoch 16/100\n",
            "6/6 [==============================] - 0s 3ms/step - loss: 0.0522\n",
            "Epoch 17/100\n",
            "6/6 [==============================] - 0s 2ms/step - loss: 0.0498\n",
            "Epoch 18/100\n",
            "6/6 [==============================] - 0s 4ms/step - loss: 0.0476\n",
            "Epoch 19/100\n",
            "6/6 [==============================] - 0s 3ms/step - loss: 0.0457\n",
            "Epoch 20/100\n",
            "6/6 [==============================] - 0s 3ms/step - loss: 0.0442\n",
            "Epoch 21/100\n",
            "6/6 [==============================] - 0s 2ms/step - loss: 0.0428\n",
            "Epoch 22/100\n",
            "6/6 [==============================] - 0s 2ms/step - loss: 0.0417\n",
            "Epoch 23/100\n",
            "6/6 [==============================] - 0s 3ms/step - loss: 0.0406\n",
            "Epoch 24/100\n",
            "6/6 [==============================] - 0s 3ms/step - loss: 0.0397\n",
            "Epoch 25/100\n",
            "6/6 [==============================] - 0s 3ms/step - loss: 0.0388\n",
            "Epoch 26/100\n",
            "6/6 [==============================] - 0s 3ms/step - loss: 0.0381\n",
            "Epoch 27/100\n",
            "6/6 [==============================] - 0s 3ms/step - loss: 0.0374\n",
            "Epoch 28/100\n",
            "6/6 [==============================] - 0s 3ms/step - loss: 0.0367\n",
            "Epoch 29/100\n",
            "6/6 [==============================] - 0s 3ms/step - loss: 0.0361\n",
            "Epoch 30/100\n",
            "6/6 [==============================] - 0s 2ms/step - loss: 0.0356\n",
            "Epoch 31/100\n",
            "6/6 [==============================] - 0s 3ms/step - loss: 0.0350\n",
            "Epoch 32/100\n",
            "6/6 [==============================] - 0s 2ms/step - loss: 0.0345\n",
            "Epoch 33/100\n",
            "6/6 [==============================] - 0s 2ms/step - loss: 0.0342\n",
            "Epoch 34/100\n",
            "6/6 [==============================] - 0s 3ms/step - loss: 0.0337\n",
            "Epoch 35/100\n",
            "6/6 [==============================] - 0s 2ms/step - loss: 0.0334\n",
            "Epoch 36/100\n",
            "6/6 [==============================] - 0s 3ms/step - loss: 0.0331\n",
            "Epoch 37/100\n",
            "6/6 [==============================] - 0s 3ms/step - loss: 0.0327\n",
            "Epoch 38/100\n",
            "6/6 [==============================] - 0s 2ms/step - loss: 0.0324\n",
            "Epoch 39/100\n",
            "6/6 [==============================] - 0s 2ms/step - loss: 0.0321\n",
            "Epoch 40/100\n",
            "6/6 [==============================] - 0s 3ms/step - loss: 0.0319\n",
            "Epoch 41/100\n",
            "6/6 [==============================] - 0s 2ms/step - loss: 0.0316\n",
            "Epoch 42/100\n",
            "6/6 [==============================] - 0s 3ms/step - loss: 0.0314\n",
            "Epoch 43/100\n",
            "6/6 [==============================] - 0s 2ms/step - loss: 0.0311\n",
            "Epoch 44/100\n",
            "6/6 [==============================] - 0s 4ms/step - loss: 0.0309\n",
            "Epoch 45/100\n",
            "6/6 [==============================] - 0s 3ms/step - loss: 0.0307\n",
            "Epoch 46/100\n",
            "6/6 [==============================] - 0s 3ms/step - loss: 0.0306\n",
            "Epoch 47/100\n",
            "6/6 [==============================] - 0s 3ms/step - loss: 0.0304\n",
            "Epoch 48/100\n",
            "6/6 [==============================] - 0s 3ms/step - loss: 0.0302\n",
            "Epoch 49/100\n",
            "6/6 [==============================] - 0s 4ms/step - loss: 0.0301\n",
            "Epoch 50/100\n",
            "6/6 [==============================] - 0s 3ms/step - loss: 0.0299\n",
            "Epoch 51/100\n",
            "6/6 [==============================] - 0s 3ms/step - loss: 0.0298\n",
            "Epoch 52/100\n",
            "6/6 [==============================] - 0s 2ms/step - loss: 0.0297\n",
            "Epoch 53/100\n",
            "6/6 [==============================] - 0s 3ms/step - loss: 0.0296\n",
            "Epoch 54/100\n",
            "6/6 [==============================] - 0s 4ms/step - loss: 0.0295\n",
            "Epoch 55/100\n",
            "6/6 [==============================] - 0s 2ms/step - loss: 0.0294\n",
            "Epoch 56/100\n",
            "6/6 [==============================] - 0s 3ms/step - loss: 0.0293\n",
            "Epoch 57/100\n",
            "6/6 [==============================] - 0s 2ms/step - loss: 0.0292\n",
            "Epoch 58/100\n",
            "6/6 [==============================] - 0s 2ms/step - loss: 0.0291\n",
            "Epoch 59/100\n",
            "6/6 [==============================] - 0s 3ms/step - loss: 0.0290\n",
            "Epoch 60/100\n",
            "6/6 [==============================] - 0s 2ms/step - loss: 0.0289\n",
            "Epoch 61/100\n",
            "6/6 [==============================] - 0s 2ms/step - loss: 0.0289\n",
            "Epoch 62/100\n",
            "6/6 [==============================] - 0s 3ms/step - loss: 0.0288\n",
            "Epoch 63/100\n",
            "6/6 [==============================] - 0s 4ms/step - loss: 0.0287\n",
            "Epoch 64/100\n",
            "6/6 [==============================] - 0s 4ms/step - loss: 0.0287\n",
            "Epoch 65/100\n",
            "6/6 [==============================] - 0s 3ms/step - loss: 0.0286\n",
            "Epoch 66/100\n",
            "6/6 [==============================] - 0s 3ms/step - loss: 0.0286\n",
            "Epoch 67/100\n",
            "6/6 [==============================] - 0s 3ms/step - loss: 0.0285\n",
            "Epoch 68/100\n",
            "6/6 [==============================] - 0s 3ms/step - loss: 0.0285\n",
            "Epoch 69/100\n",
            "6/6 [==============================] - 0s 3ms/step - loss: 0.0284\n",
            "Epoch 70/100\n",
            "6/6 [==============================] - 0s 3ms/step - loss: 0.0284\n",
            "Epoch 71/100\n",
            "6/6 [==============================] - 0s 3ms/step - loss: 0.0284\n",
            "Epoch 72/100\n",
            "6/6 [==============================] - 0s 3ms/step - loss: 0.0283\n",
            "Epoch 73/100\n",
            "6/6 [==============================] - 0s 3ms/step - loss: 0.0283\n",
            "Epoch 74/100\n",
            "6/6 [==============================] - 0s 3ms/step - loss: 0.0283\n",
            "Epoch 75/100\n",
            "6/6 [==============================] - 0s 3ms/step - loss: 0.0282\n",
            "Epoch 76/100\n",
            "6/6 [==============================] - 0s 3ms/step - loss: 0.0282\n",
            "Epoch 77/100\n",
            "6/6 [==============================] - 0s 3ms/step - loss: 0.0282\n",
            "Epoch 78/100\n",
            "6/6 [==============================] - 0s 3ms/step - loss: 0.0281\n",
            "Epoch 79/100\n",
            "6/6 [==============================] - 0s 4ms/step - loss: 0.0281\n",
            "Epoch 80/100\n",
            "6/6 [==============================] - 0s 3ms/step - loss: 0.0281\n",
            "Epoch 81/100\n",
            "6/6 [==============================] - 0s 2ms/step - loss: 0.0280\n",
            "Epoch 82/100\n",
            "6/6 [==============================] - 0s 3ms/step - loss: 0.0280\n",
            "Epoch 83/100\n",
            "6/6 [==============================] - 0s 3ms/step - loss: 0.0280\n",
            "Epoch 84/100\n",
            "6/6 [==============================] - 0s 3ms/step - loss: 0.0280\n",
            "Epoch 85/100\n",
            "6/6 [==============================] - 0s 3ms/step - loss: 0.0280\n",
            "Epoch 86/100\n",
            "6/6 [==============================] - 0s 2ms/step - loss: 0.0280\n",
            "Epoch 87/100\n",
            "6/6 [==============================] - 0s 2ms/step - loss: 0.0279\n",
            "Epoch 88/100\n",
            "6/6 [==============================] - 0s 4ms/step - loss: 0.0279\n",
            "Epoch 89/100\n",
            "6/6 [==============================] - 0s 3ms/step - loss: 0.0279\n",
            "Epoch 90/100\n",
            "6/6 [==============================] - 0s 3ms/step - loss: 0.0279\n",
            "Epoch 91/100\n",
            "6/6 [==============================] - 0s 3ms/step - loss: 0.0279\n",
            "Epoch 92/100\n",
            "6/6 [==============================] - 0s 3ms/step - loss: 0.0279\n",
            "Epoch 93/100\n",
            "6/6 [==============================] - 0s 3ms/step - loss: 0.0279\n",
            "Epoch 94/100\n",
            "6/6 [==============================] - 0s 3ms/step - loss: 0.0279\n",
            "Epoch 95/100\n",
            "6/6 [==============================] - 0s 2ms/step - loss: 0.0279\n",
            "Epoch 96/100\n",
            "6/6 [==============================] - 0s 2ms/step - loss: 0.0278\n",
            "Epoch 97/100\n",
            "6/6 [==============================] - 0s 3ms/step - loss: 0.0278\n",
            "Epoch 98/100\n",
            "6/6 [==============================] - 0s 2ms/step - loss: 0.0278\n",
            "Epoch 99/100\n",
            "6/6 [==============================] - 0s 3ms/step - loss: 0.0278\n",
            "Epoch 100/100\n",
            "6/6 [==============================] - 0s 3ms/step - loss: 0.0278\n"
          ]
        },
        {
          "output_type": "stream",
          "name": "stderr",
          "text": [
            "WARNING:tensorflow:5 out of the last 5 calls to <function Model.make_predict_function.<locals>.predict_function at 0x7fb880a975e0> triggered tf.function retracing. Tracing is expensive and the excessive number of tracings could be due to (1) creating @tf.function repeatedly in a loop, (2) passing tensors with different shapes, (3) passing Python objects instead of tensors. For (1), please define your @tf.function outside of the loop. For (2), @tf.function has reduce_retracing=True option that can avoid unnecessary retracing. For (3), please refer to https://www.tensorflow.org/guide/function#controlling_retracing and https://www.tensorflow.org/api_docs/python/tf/function for  more details.\n"
          ]
        },
        {
          "output_type": "stream",
          "name": "stdout",
          "text": [
            "1/1 [==============================] - 0s 47ms/step\n",
            "accuracy: 1.0\n"
          ]
        }
      ]
    },
    {
      "cell_type": "code",
      "source": [
        "plot_decision_boundary(model=lgr, arrayX=dataset.trainX, arrayY=dataset.trainY, N_gridpoints=40)"
      ],
      "metadata": {
        "colab": {
          "base_uri": "https://localhost:8080/",
          "height": 265
        },
        "id": "VAk2nONntSTb",
        "outputId": "8a547803-a68a-476a-bc7c-0b3f53592895"
      },
      "execution_count": 78,
      "outputs": [
        {
          "output_type": "display_data",
          "data": {
            "text/plain": [
              "<Figure size 432x288 with 1 Axes>"
            ],
            "image/png": "[encoded data removed]"
          },
          "metadata": {
            "needs_background": "light"
          }
        }
      ]
    },
    {
      "cell_type": "code",
      "source": [
        "dataset = create_data_set(100, 1.0)"
      ],
      "metadata": {
        "id": "QH5v31MEmWCL"
      },
      "execution_count": 79,
      "outputs": []
    },
    {
      "cell_type": "code",
      "source": [
        "lgr = LogisticRegression()\n",
        "lgr.fit(dataset.trainX, dataset.trainY)\n",
        "predictions = lgr.predict(dataset.testX)\n",
        "print(f'accuracy: {accuracy_score(predictions, dataset.testY)}')"
      ],
      "metadata": {
        "colab": {
          "base_uri": "https://localhost:8080/"
        },
        "id": "8m2keEwKmaPE",
        "outputId": "71cb7de5-5f51-4ded-f2ca-c38759ad6f67"
      },
      "execution_count": 25,
      "outputs": [
        {
          "output_type": "stream",
          "name": "stdout",
          "text": [
            "accuracy: 0.9\n"
          ]
        }
      ]
    },
    {
      "cell_type": "code",
      "source": [
        "knn = KNeighborsClassifier()\n",
        "knn.fit(dataset.trainX, dataset.trainY)\n",
        "predictions = knn.predict(dataset.testX)\n",
        "print(f'accuracy: {accuracy_score(predictions, dataset.testY)}')"
      ],
      "metadata": {
        "colab": {
          "base_uri": "https://localhost:8080/"
        },
        "id": "KcZed3Cmny8k",
        "outputId": "fda7fbe4-b5dc-4674-a63e-c4e94ddb5cb5"
      },
      "execution_count": 41,
      "outputs": [
        {
          "output_type": "stream",
          "name": "stdout",
          "text": [
            "accuracy: 0.9\n"
          ]
        }
      ]
    },
    {
      "cell_type": "code",
      "source": [
        "model = Sequential([Dense(units=1, input_shape=[2])])\n",
        "model.compile(optimizer='sgd', loss='mean_squared_error')\n",
        "model.fit(dataset.trainX, dataset.trainY, epochs=100)\n",
        "predictions = model.predict(dataset.testX)\n",
        "print(f'accuracy: {accuracy_score(np.round(predictions.flatten()), dataset.testY)}')"
      ],
      "metadata": {
        "colab": {
          "base_uri": "https://localhost:8080/"
        },
        "id": "NII2ncXksTea",
        "outputId": "c9681700-cbe7-4ec7-bedd-8044c7321a45"
      },
      "execution_count": 66,
      "outputs": [
        {
          "output_type": "stream",
          "name": "stdout",
          "text": [
            "Epoch 1/100\n",
            "6/6 [==============================] - 1s 3ms/step - loss: 3.4187\n",
            "Epoch 2/100\n",
            "6/6 [==============================] - 0s 3ms/step - loss: 1.9304\n",
            "Epoch 3/100\n",
            "6/6 [==============================] - 0s 3ms/step - loss: 1.1344\n",
            "Epoch 4/100\n",
            "6/6 [==============================] - 0s 2ms/step - loss: 0.7003\n",
            "Epoch 5/100\n",
            "6/6 [==============================] - 0s 3ms/step - loss: 0.4520\n",
            "Epoch 6/100\n",
            "6/6 [==============================] - 0s 3ms/step - loss: 0.3165\n",
            "Epoch 7/100\n",
            "6/6 [==============================] - 0s 2ms/step - loss: 0.2389\n",
            "Epoch 8/100\n",
            "6/6 [==============================] - 0s 2ms/step - loss: 0.1928\n",
            "Epoch 9/100\n",
            "6/6 [==============================] - 0s 4ms/step - loss: 0.1623\n",
            "Epoch 10/100\n",
            "6/6 [==============================] - 0s 2ms/step - loss: 0.1435\n",
            "Epoch 11/100\n",
            "6/6 [==============================] - 0s 2ms/step - loss: 0.1300\n",
            "Epoch 12/100\n",
            "6/6 [==============================] - 0s 3ms/step - loss: 0.1202\n",
            "Epoch 13/100\n",
            "6/6 [==============================] - 0s 3ms/step - loss: 0.1134\n",
            "Epoch 14/100\n",
            "6/6 [==============================] - 0s 3ms/step - loss: 0.1081\n",
            "Epoch 15/100\n",
            "6/6 [==============================] - 0s 3ms/step - loss: 0.1039\n",
            "Epoch 16/100\n",
            "6/6 [==============================] - 0s 2ms/step - loss: 0.1008\n",
            "Epoch 17/100\n",
            "6/6 [==============================] - 0s 3ms/step - loss: 0.0984\n",
            "Epoch 18/100\n",
            "6/6 [==============================] - 0s 2ms/step - loss: 0.0964\n",
            "Epoch 19/100\n",
            "6/6 [==============================] - 0s 2ms/step - loss: 0.0948\n",
            "Epoch 20/100\n",
            "6/6 [==============================] - 0s 3ms/step - loss: 0.0935\n",
            "Epoch 21/100\n",
            "6/6 [==============================] - 0s 3ms/step - loss: 0.0926\n",
            "Epoch 22/100\n",
            "6/6 [==============================] - 0s 3ms/step - loss: 0.0916\n",
            "Epoch 23/100\n",
            "6/6 [==============================] - 0s 3ms/step - loss: 0.0911\n",
            "Epoch 24/100\n",
            "6/6 [==============================] - 0s 3ms/step - loss: 0.0905\n",
            "Epoch 25/100\n",
            "6/6 [==============================] - 0s 4ms/step - loss: 0.0901\n",
            "Epoch 26/100\n",
            "6/6 [==============================] - 0s 3ms/step - loss: 0.0897\n",
            "Epoch 27/100\n",
            "6/6 [==============================] - 0s 3ms/step - loss: 0.0894\n",
            "Epoch 28/100\n",
            "6/6 [==============================] - 0s 2ms/step - loss: 0.0893\n",
            "Epoch 29/100\n",
            "6/6 [==============================] - 0s 2ms/step - loss: 0.0890\n",
            "Epoch 30/100\n",
            "6/6 [==============================] - 0s 2ms/step - loss: 0.0889\n",
            "Epoch 31/100\n",
            "6/6 [==============================] - 0s 3ms/step - loss: 0.0889\n",
            "Epoch 32/100\n",
            "6/6 [==============================] - 0s 3ms/step - loss: 0.0886\n",
            "Epoch 33/100\n",
            "6/6 [==============================] - 0s 3ms/step - loss: 0.0886\n",
            "Epoch 34/100\n",
            "6/6 [==============================] - 0s 3ms/step - loss: 0.0886\n",
            "Epoch 35/100\n",
            "6/6 [==============================] - 0s 3ms/step - loss: 0.0886\n",
            "Epoch 36/100\n",
            "6/6 [==============================] - 0s 4ms/step - loss: 0.0884\n",
            "Epoch 37/100\n",
            "6/6 [==============================] - 0s 3ms/step - loss: 0.0885\n",
            "Epoch 38/100\n",
            "6/6 [==============================] - 0s 3ms/step - loss: 0.0884\n",
            "Epoch 39/100\n",
            "6/6 [==============================] - 0s 3ms/step - loss: 0.0884\n",
            "Epoch 40/100\n",
            "6/6 [==============================] - 0s 3ms/step - loss: 0.0883\n",
            "Epoch 41/100\n",
            "6/6 [==============================] - 0s 3ms/step - loss: 0.0885\n",
            "Epoch 42/100\n",
            "6/6 [==============================] - 0s 3ms/step - loss: 0.0884\n",
            "Epoch 43/100\n",
            "6/6 [==============================] - 0s 2ms/step - loss: 0.0883\n",
            "Epoch 44/100\n",
            "6/6 [==============================] - 0s 3ms/step - loss: 0.0883\n",
            "Epoch 45/100\n",
            "6/6 [==============================] - 0s 4ms/step - loss: 0.0883\n",
            "Epoch 46/100\n",
            "6/6 [==============================] - 0s 2ms/step - loss: 0.0884\n",
            "Epoch 47/100\n",
            "6/6 [==============================] - 0s 3ms/step - loss: 0.0883\n",
            "Epoch 48/100\n",
            "6/6 [==============================] - 0s 3ms/step - loss: 0.0883\n",
            "Epoch 49/100\n",
            "6/6 [==============================] - 0s 3ms/step - loss: 0.0884\n",
            "Epoch 50/100\n",
            "6/6 [==============================] - 0s 3ms/step - loss: 0.0883\n",
            "Epoch 51/100\n",
            "6/6 [==============================] - 0s 2ms/step - loss: 0.0883\n",
            "Epoch 52/100\n",
            "6/6 [==============================] - 0s 3ms/step - loss: 0.0883\n",
            "Epoch 53/100\n",
            "6/6 [==============================] - 0s 2ms/step - loss: 0.0884\n",
            "Epoch 54/100\n",
            "6/6 [==============================] - 0s 2ms/step - loss: 0.0883\n",
            "Epoch 55/100\n",
            "6/6 [==============================] - 0s 3ms/step - loss: 0.0884\n",
            "Epoch 56/100\n",
            "6/6 [==============================] - 0s 3ms/step - loss: 0.0883\n",
            "Epoch 57/100\n",
            "6/6 [==============================] - 0s 2ms/step - loss: 0.0883\n",
            "Epoch 58/100\n",
            "6/6 [==============================] - 0s 2ms/step - loss: 0.0884\n",
            "Epoch 59/100\n",
            "6/6 [==============================] - 0s 3ms/step - loss: 0.0883\n",
            "Epoch 60/100\n",
            "6/6 [==============================] - 0s 2ms/step - loss: 0.0883\n",
            "Epoch 61/100\n",
            "6/6 [==============================] - 0s 2ms/step - loss: 0.0883\n",
            "Epoch 62/100\n",
            "6/6 [==============================] - 0s 2ms/step - loss: 0.0884\n",
            "Epoch 63/100\n",
            "6/6 [==============================] - 0s 2ms/step - loss: 0.0883\n",
            "Epoch 64/100\n",
            "6/6 [==============================] - 0s 2ms/step - loss: 0.0884\n",
            "Epoch 65/100\n",
            "6/6 [==============================] - 0s 4ms/step - loss: 0.0884\n",
            "Epoch 66/100\n",
            "6/6 [==============================] - 0s 3ms/step - loss: 0.0883\n",
            "Epoch 67/100\n",
            "6/6 [==============================] - 0s 2ms/step - loss: 0.0883\n",
            "Epoch 68/100\n",
            "6/6 [==============================] - 0s 2ms/step - loss: 0.0883\n",
            "Epoch 69/100\n",
            "6/6 [==============================] - 0s 2ms/step - loss: 0.0884\n",
            "Epoch 70/100\n",
            "6/6 [==============================] - 0s 3ms/step - loss: 0.0883\n",
            "Epoch 71/100\n",
            "6/6 [==============================] - 0s 3ms/step - loss: 0.0884\n",
            "Epoch 72/100\n",
            "6/6 [==============================] - 0s 3ms/step - loss: 0.0884\n",
            "Epoch 73/100\n",
            "6/6 [==============================] - 0s 2ms/step - loss: 0.0884\n",
            "Epoch 74/100\n",
            "6/6 [==============================] - 0s 3ms/step - loss: 0.0884\n",
            "Epoch 75/100\n",
            "6/6 [==============================] - 0s 3ms/step - loss: 0.0884\n",
            "Epoch 76/100\n",
            "6/6 [==============================] - 0s 3ms/step - loss: 0.0882\n",
            "Epoch 77/100\n",
            "6/6 [==============================] - 0s 3ms/step - loss: 0.0883\n",
            "Epoch 78/100\n",
            "6/6 [==============================] - 0s 2ms/step - loss: 0.0884\n",
            "Epoch 79/100\n",
            "6/6 [==============================] - 0s 3ms/step - loss: 0.0883\n",
            "Epoch 80/100\n",
            "6/6 [==============================] - 0s 3ms/step - loss: 0.0883\n",
            "Epoch 81/100\n",
            "6/6 [==============================] - 0s 3ms/step - loss: 0.0884\n",
            "Epoch 82/100\n",
            "6/6 [==============================] - 0s 3ms/step - loss: 0.0883\n",
            "Epoch 83/100\n",
            "6/6 [==============================] - 0s 3ms/step - loss: 0.0883\n",
            "Epoch 84/100\n",
            "6/6 [==============================] - 0s 3ms/step - loss: 0.0883\n",
            "Epoch 85/100\n",
            "6/6 [==============================] - 0s 3ms/step - loss: 0.0883\n",
            "Epoch 86/100\n",
            "6/6 [==============================] - 0s 3ms/step - loss: 0.0883\n",
            "Epoch 87/100\n",
            "6/6 [==============================] - 0s 5ms/step - loss: 0.0884\n",
            "Epoch 88/100\n",
            "6/6 [==============================] - 0s 4ms/step - loss: 0.0883\n",
            "Epoch 89/100\n",
            "6/6 [==============================] - 0s 3ms/step - loss: 0.0883\n",
            "Epoch 90/100\n",
            "6/6 [==============================] - 0s 3ms/step - loss: 0.0884\n",
            "Epoch 91/100\n",
            "6/6 [==============================] - 0s 3ms/step - loss: 0.0883\n",
            "Epoch 92/100\n",
            "6/6 [==============================] - 0s 3ms/step - loss: 0.0883\n",
            "Epoch 93/100\n",
            "6/6 [==============================] - 0s 2ms/step - loss: 0.0884\n",
            "Epoch 94/100\n",
            "6/6 [==============================] - 0s 3ms/step - loss: 0.0884\n",
            "Epoch 95/100\n",
            "6/6 [==============================] - 0s 3ms/step - loss: 0.0883\n",
            "Epoch 96/100\n",
            "6/6 [==============================] - 0s 2ms/step - loss: 0.0883\n",
            "Epoch 97/100\n",
            "6/6 [==============================] - 0s 2ms/step - loss: 0.0883\n",
            "Epoch 98/100\n",
            "6/6 [==============================] - 0s 3ms/step - loss: 0.0884\n",
            "Epoch 99/100\n",
            "6/6 [==============================] - 0s 3ms/step - loss: 0.0884\n",
            "Epoch 100/100\n",
            "6/6 [==============================] - 0s 3ms/step - loss: 0.0883\n"
          ]
        },
        {
          "output_type": "stream",
          "name": "stderr",
          "text": [
            "WARNING:tensorflow:6 out of the last 6 calls to <function Model.make_predict_function.<locals>.predict_function at 0x7fb8856e8f70> triggered tf.function retracing. Tracing is expensive and the excessive number of tracings could be due to (1) creating @tf.function repeatedly in a loop, (2) passing tensors with different shapes, (3) passing Python objects instead of tensors. For (1), please define your @tf.function outside of the loop. For (2), @tf.function has reduce_retracing=True option that can avoid unnecessary retracing. For (3), please refer to https://www.tensorflow.org/guide/function#controlling_retracing and https://www.tensorflow.org/api_docs/python/tf/function for  more details.\n"
          ]
        },
        {
          "output_type": "stream",
          "name": "stdout",
          "text": [
            "1/1 [==============================] - 0s 41ms/step\n",
            "accuracy: 0.9\n"
          ]
        }
      ]
    },
    {
      "cell_type": "code",
      "source": [
        "plot_decision_boundary(model=lgr, arrayX=dataset.trainX, arrayY=dataset.trainY, N_gridpoints=40)"
      ],
      "metadata": {
        "colab": {
          "base_uri": "https://localhost:8080/",
          "height": 265
        },
        "id": "JApnj9PmujoC",
        "outputId": "81cf1e66-f597-4dec-816f-3112df4d3976"
      },
      "execution_count": 80,
      "outputs": [
        {
          "output_type": "display_data",
          "data": {
            "text/plain": [
              "<Figure size 432x288 with 1 Axes>"
            ],
            "image/png": "[encoded data removed]"
          },
          "metadata": {
            "needs_background": "light"
          }
        }
      ]
    },
    {
      "cell_type": "code",
      "source": [
        "dataset = create_data_set(200, 1.5)"
      ],
      "metadata": {
        "id": "2dr5f78fmf4c"
      },
      "execution_count": 81,
      "outputs": []
    },
    {
      "cell_type": "code",
      "source": [
        "lgr = LogisticRegression()\n",
        "lgr.fit(dataset.trainX, dataset.trainY)\n",
        "predictions = lgr.predict(dataset.testX)\n",
        "print(f'accuracy: {accuracy_score(predictions, dataset.testY)}')"
      ],
      "metadata": {
        "colab": {
          "base_uri": "https://localhost:8080/"
        },
        "id": "_F7HqwPBmjtI",
        "outputId": "fb939965-3c37-45f8-c56f-87219356bfad"
      },
      "execution_count": 28,
      "outputs": [
        {
          "output_type": "stream",
          "name": "stdout",
          "text": [
            "accuracy: 0.75\n"
          ]
        }
      ]
    },
    {
      "cell_type": "code",
      "source": [
        "knn = KNeighborsClassifier()\n",
        "knn.fit(dataset.trainX, dataset.trainY)\n",
        "predictions = knn.predict(dataset.testX)\n",
        "print(f'accuracy: {accuracy_score(predictions, dataset.testY)}')"
      ],
      "metadata": {
        "colab": {
          "base_uri": "https://localhost:8080/"
        },
        "id": "Jo7dieEin1Fn",
        "outputId": "1dd37cb1-e115-4cdd-e5c2-05f91c4f5bc2"
      },
      "execution_count": 43,
      "outputs": [
        {
          "output_type": "stream",
          "name": "stdout",
          "text": [
            "accuracy: 0.65\n"
          ]
        }
      ]
    },
    {
      "cell_type": "code",
      "source": [
        "model = Sequential([Dense(units=1, input_shape=[2])])\n",
        "model.compile(optimizer='sgd', loss='mean_squared_error')\n",
        "model.fit(dataset.trainX, dataset.trainY, epochs=150)\n",
        "predictions = model.predict(dataset.testX)\n",
        "print(f'accuracy: {accuracy_score(np.round(predictions.flatten()), dataset.testY)}')"
      ],
      "metadata": {
        "colab": {
          "base_uri": "https://localhost:8080/"
        },
        "id": "PSCYJIJhsXM_",
        "outputId": "70662ded-b84b-4e31-ebf4-014f88cd0092"
      },
      "execution_count": 68,
      "outputs": [
        {
          "output_type": "stream",
          "name": "stdout",
          "text": [
            "Epoch 1/150\n",
            "12/12 [==============================] - 0s 2ms/step - loss: 1.1843\n",
            "Epoch 2/150\n",
            "12/12 [==============================] - 0s 2ms/step - loss: 0.4066\n",
            "Epoch 3/150\n",
            "12/12 [==============================] - 0s 2ms/step - loss: 0.2541\n",
            "Epoch 4/150\n",
            "12/12 [==============================] - 0s 2ms/step - loss: 0.2032\n",
            "Epoch 5/150\n",
            "12/12 [==============================] - 0s 2ms/step - loss: 0.1770\n",
            "Epoch 6/150\n",
            "12/12 [==============================] - 0s 2ms/step - loss: 0.1618\n",
            "Epoch 7/150\n",
            "12/12 [==============================] - 0s 2ms/step - loss: 0.1524\n",
            "Epoch 8/150\n",
            "12/12 [==============================] - 0s 2ms/step - loss: 0.1467\n",
            "Epoch 9/150\n",
            "12/12 [==============================] - 0s 2ms/step - loss: 0.1430\n",
            "Epoch 10/150\n",
            "12/12 [==============================] - 0s 3ms/step - loss: 0.1410\n",
            "Epoch 11/150\n",
            "12/12 [==============================] - 0s 2ms/step - loss: 0.1396\n",
            "Epoch 12/150\n",
            "12/12 [==============================] - 0s 2ms/step - loss: 0.1388\n",
            "Epoch 13/150\n",
            "12/12 [==============================] - 0s 2ms/step - loss: 0.1382\n",
            "Epoch 14/150\n",
            "12/12 [==============================] - 0s 2ms/step - loss: 0.1380\n",
            "Epoch 15/150\n",
            "12/12 [==============================] - 0s 2ms/step - loss: 0.1375\n",
            "Epoch 16/150\n",
            "12/12 [==============================] - 0s 2ms/step - loss: 0.1375\n",
            "Epoch 17/150\n",
            "12/12 [==============================] - 0s 2ms/step - loss: 0.1375\n",
            "Epoch 18/150\n",
            "12/12 [==============================] - 0s 2ms/step - loss: 0.1376\n",
            "Epoch 19/150\n",
            "12/12 [==============================] - 0s 2ms/step - loss: 0.1376\n",
            "Epoch 20/150\n",
            "12/12 [==============================] - 0s 2ms/step - loss: 0.1374\n",
            "Epoch 21/150\n",
            "12/12 [==============================] - 0s 2ms/step - loss: 0.1374\n",
            "Epoch 22/150\n",
            "12/12 [==============================] - 0s 2ms/step - loss: 0.1374\n",
            "Epoch 23/150\n",
            "12/12 [==============================] - 0s 2ms/step - loss: 0.1374\n",
            "Epoch 24/150\n",
            "12/12 [==============================] - 0s 2ms/step - loss: 0.1374\n",
            "Epoch 25/150\n",
            "12/12 [==============================] - 0s 2ms/step - loss: 0.1373\n",
            "Epoch 26/150\n",
            "12/12 [==============================] - 0s 2ms/step - loss: 0.1374\n",
            "Epoch 27/150\n",
            "12/12 [==============================] - 0s 2ms/step - loss: 0.1375\n",
            "Epoch 28/150\n",
            "12/12 [==============================] - 0s 2ms/step - loss: 0.1374\n",
            "Epoch 29/150\n",
            "12/12 [==============================] - 0s 2ms/step - loss: 0.1373\n",
            "Epoch 30/150\n",
            "12/12 [==============================] - 0s 2ms/step - loss: 0.1375\n",
            "Epoch 31/150\n",
            "12/12 [==============================] - 0s 2ms/step - loss: 0.1372\n",
            "Epoch 32/150\n",
            "12/12 [==============================] - 0s 2ms/step - loss: 0.1373\n",
            "Epoch 33/150\n",
            "12/12 [==============================] - 0s 2ms/step - loss: 0.1375\n",
            "Epoch 34/150\n",
            "12/12 [==============================] - 0s 2ms/step - loss: 0.1375\n",
            "Epoch 35/150\n",
            "12/12 [==============================] - 0s 2ms/step - loss: 0.1373\n",
            "Epoch 36/150\n",
            "12/12 [==============================] - 0s 2ms/step - loss: 0.1374\n",
            "Epoch 37/150\n",
            "12/12 [==============================] - 0s 2ms/step - loss: 0.1375\n",
            "Epoch 38/150\n",
            "12/12 [==============================] - 0s 2ms/step - loss: 0.1374\n",
            "Epoch 39/150\n",
            "12/12 [==============================] - 0s 2ms/step - loss: 0.1374\n",
            "Epoch 40/150\n",
            "12/12 [==============================] - 0s 2ms/step - loss: 0.1376\n",
            "Epoch 41/150\n",
            "12/12 [==============================] - 0s 2ms/step - loss: 0.1373\n",
            "Epoch 42/150\n",
            "12/12 [==============================] - 0s 3ms/step - loss: 0.1373\n",
            "Epoch 43/150\n",
            "12/12 [==============================] - 0s 2ms/step - loss: 0.1374\n",
            "Epoch 44/150\n",
            "12/12 [==============================] - 0s 2ms/step - loss: 0.1373\n",
            "Epoch 45/150\n",
            "12/12 [==============================] - 0s 2ms/step - loss: 0.1375\n",
            "Epoch 46/150\n",
            "12/12 [==============================] - 0s 2ms/step - loss: 0.1374\n",
            "Epoch 47/150\n",
            "12/12 [==============================] - 0s 2ms/step - loss: 0.1374\n",
            "Epoch 48/150\n",
            "12/12 [==============================] - 0s 2ms/step - loss: 0.1373\n",
            "Epoch 49/150\n",
            "12/12 [==============================] - 0s 2ms/step - loss: 0.1374\n",
            "Epoch 50/150\n",
            "12/12 [==============================] - 0s 2ms/step - loss: 0.1374\n",
            "Epoch 51/150\n",
            "12/12 [==============================] - 0s 2ms/step - loss: 0.1376\n",
            "Epoch 52/150\n",
            "12/12 [==============================] - 0s 2ms/step - loss: 0.1373\n",
            "Epoch 53/150\n",
            "12/12 [==============================] - 0s 2ms/step - loss: 0.1373\n",
            "Epoch 54/150\n",
            "12/12 [==============================] - 0s 2ms/step - loss: 0.1375\n",
            "Epoch 55/150\n",
            "12/12 [==============================] - 0s 3ms/step - loss: 0.1375\n",
            "Epoch 56/150\n",
            "12/12 [==============================] - 0s 2ms/step - loss: 0.1375\n",
            "Epoch 57/150\n",
            "12/12 [==============================] - 0s 2ms/step - loss: 0.1375\n",
            "Epoch 58/150\n",
            "12/12 [==============================] - 0s 2ms/step - loss: 0.1374\n",
            "Epoch 59/150\n",
            "12/12 [==============================] - 0s 2ms/step - loss: 0.1373\n",
            "Epoch 60/150\n",
            "12/12 [==============================] - 0s 2ms/step - loss: 0.1372\n",
            "Epoch 61/150\n",
            "12/12 [==============================] - 0s 2ms/step - loss: 0.1374\n",
            "Epoch 62/150\n",
            "12/12 [==============================] - 0s 2ms/step - loss: 0.1375\n",
            "Epoch 63/150\n",
            "12/12 [==============================] - 0s 2ms/step - loss: 0.1374\n",
            "Epoch 64/150\n",
            "12/12 [==============================] - 0s 2ms/step - loss: 0.1373\n",
            "Epoch 65/150\n",
            "12/12 [==============================] - 0s 3ms/step - loss: 0.1372\n",
            "Epoch 66/150\n",
            "12/12 [==============================] - 0s 2ms/step - loss: 0.1375\n",
            "Epoch 67/150\n",
            "12/12 [==============================] - 0s 2ms/step - loss: 0.1375\n",
            "Epoch 68/150\n",
            "12/12 [==============================] - 0s 2ms/step - loss: 0.1373\n",
            "Epoch 69/150\n",
            "12/12 [==============================] - 0s 2ms/step - loss: 0.1374\n",
            "Epoch 70/150\n",
            "12/12 [==============================] - 0s 2ms/step - loss: 0.1374\n",
            "Epoch 71/150\n",
            "12/12 [==============================] - 0s 2ms/step - loss: 0.1375\n",
            "Epoch 72/150\n",
            "12/12 [==============================] - 0s 2ms/step - loss: 0.1373\n",
            "Epoch 73/150\n",
            "12/12 [==============================] - 0s 2ms/step - loss: 0.1373\n",
            "Epoch 74/150\n",
            "12/12 [==============================] - 0s 2ms/step - loss: 0.1373\n",
            "Epoch 75/150\n",
            "12/12 [==============================] - 0s 3ms/step - loss: 0.1374\n",
            "Epoch 76/150\n",
            "12/12 [==============================] - 0s 2ms/step - loss: 0.1373\n",
            "Epoch 77/150\n",
            "12/12 [==============================] - 0s 2ms/step - loss: 0.1375\n",
            "Epoch 78/150\n",
            "12/12 [==============================] - 0s 2ms/step - loss: 0.1374\n",
            "Epoch 79/150\n",
            "12/12 [==============================] - 0s 2ms/step - loss: 0.1372\n",
            "Epoch 80/150\n",
            "12/12 [==============================] - 0s 2ms/step - loss: 0.1375\n",
            "Epoch 81/150\n",
            "12/12 [==============================] - 0s 2ms/step - loss: 0.1373\n",
            "Epoch 82/150\n",
            "12/12 [==============================] - 0s 2ms/step - loss: 0.1374\n",
            "Epoch 83/150\n",
            "12/12 [==============================] - 0s 2ms/step - loss: 0.1372\n",
            "Epoch 84/150\n",
            "12/12 [==============================] - 0s 2ms/step - loss: 0.1373\n",
            "Epoch 85/150\n",
            "12/12 [==============================] - 0s 2ms/step - loss: 0.1373\n",
            "Epoch 86/150\n",
            "12/12 [==============================] - 0s 2ms/step - loss: 0.1373\n",
            "Epoch 87/150\n",
            "12/12 [==============================] - 0s 2ms/step - loss: 0.1373\n",
            "Epoch 88/150\n",
            "12/12 [==============================] - 0s 3ms/step - loss: 0.1374\n",
            "Epoch 89/150\n",
            "12/12 [==============================] - 0s 2ms/step - loss: 0.1373\n",
            "Epoch 90/150\n",
            "12/12 [==============================] - 0s 2ms/step - loss: 0.1375\n",
            "Epoch 91/150\n",
            "12/12 [==============================] - 0s 2ms/step - loss: 0.1374\n",
            "Epoch 92/150\n",
            "12/12 [==============================] - 0s 2ms/step - loss: 0.1373\n",
            "Epoch 93/150\n",
            "12/12 [==============================] - 0s 2ms/step - loss: 0.1374\n",
            "Epoch 94/150\n",
            "12/12 [==============================] - 0s 2ms/step - loss: 0.1374\n",
            "Epoch 95/150\n",
            "12/12 [==============================] - 0s 2ms/step - loss: 0.1375\n",
            "Epoch 96/150\n",
            "12/12 [==============================] - 0s 2ms/step - loss: 0.1373\n",
            "Epoch 97/150\n",
            "12/12 [==============================] - 0s 2ms/step - loss: 0.1374\n",
            "Epoch 98/150\n",
            "12/12 [==============================] - 0s 2ms/step - loss: 0.1373\n",
            "Epoch 99/150\n",
            "12/12 [==============================] - 0s 2ms/step - loss: 0.1375\n",
            "Epoch 100/150\n",
            "12/12 [==============================] - 0s 2ms/step - loss: 0.1374\n",
            "Epoch 101/150\n",
            "12/12 [==============================] - 0s 2ms/step - loss: 0.1373\n",
            "Epoch 102/150\n",
            "12/12 [==============================] - 0s 2ms/step - loss: 0.1373\n",
            "Epoch 103/150\n",
            "12/12 [==============================] - 0s 2ms/step - loss: 0.1374\n",
            "Epoch 104/150\n",
            "12/12 [==============================] - 0s 2ms/step - loss: 0.1373\n",
            "Epoch 105/150\n",
            "12/12 [==============================] - 0s 2ms/step - loss: 0.1375\n",
            "Epoch 106/150\n",
            "12/12 [==============================] - 0s 2ms/step - loss: 0.1375\n",
            "Epoch 107/150\n",
            "12/12 [==============================] - 0s 2ms/step - loss: 0.1373\n",
            "Epoch 108/150\n",
            "12/12 [==============================] - 0s 2ms/step - loss: 0.1373\n",
            "Epoch 109/150\n",
            "12/12 [==============================] - 0s 2ms/step - loss: 0.1373\n",
            "Epoch 110/150\n",
            "12/12 [==============================] - 0s 2ms/step - loss: 0.1373\n",
            "Epoch 111/150\n",
            "12/12 [==============================] - 0s 2ms/step - loss: 0.1373\n",
            "Epoch 112/150\n",
            "12/12 [==============================] - 0s 2ms/step - loss: 0.1374\n",
            "Epoch 113/150\n",
            "12/12 [==============================] - 0s 2ms/step - loss: 0.1373\n",
            "Epoch 114/150\n",
            "12/12 [==============================] - 0s 2ms/step - loss: 0.1374\n",
            "Epoch 115/150\n",
            "12/12 [==============================] - 0s 2ms/step - loss: 0.1374\n",
            "Epoch 116/150\n",
            "12/12 [==============================] - 0s 2ms/step - loss: 0.1373\n",
            "Epoch 117/150\n",
            "12/12 [==============================] - 0s 2ms/step - loss: 0.1374\n",
            "Epoch 118/150\n",
            "12/12 [==============================] - 0s 2ms/step - loss: 0.1376\n",
            "Epoch 119/150\n",
            "12/12 [==============================] - 0s 2ms/step - loss: 0.1376\n",
            "Epoch 120/150\n",
            "12/12 [==============================] - 0s 2ms/step - loss: 0.1374\n",
            "Epoch 121/150\n",
            "12/12 [==============================] - 0s 2ms/step - loss: 0.1374\n",
            "Epoch 122/150\n",
            "12/12 [==============================] - 0s 2ms/step - loss: 0.1374\n",
            "Epoch 123/150\n",
            "12/12 [==============================] - 0s 2ms/step - loss: 0.1373\n",
            "Epoch 124/150\n",
            "12/12 [==============================] - 0s 2ms/step - loss: 0.1373\n",
            "Epoch 125/150\n",
            "12/12 [==============================] - 0s 2ms/step - loss: 0.1373\n",
            "Epoch 126/150\n",
            "12/12 [==============================] - 0s 2ms/step - loss: 0.1375\n",
            "Epoch 127/150\n",
            "12/12 [==============================] - 0s 2ms/step - loss: 0.1374\n",
            "Epoch 128/150\n",
            "12/12 [==============================] - 0s 2ms/step - loss: 0.1374\n",
            "Epoch 129/150\n",
            "12/12 [==============================] - 0s 2ms/step - loss: 0.1373\n",
            "Epoch 130/150\n",
            "12/12 [==============================] - 0s 2ms/step - loss: 0.1372\n",
            "Epoch 131/150\n",
            "12/12 [==============================] - 0s 2ms/step - loss: 0.1375\n",
            "Epoch 132/150\n",
            "12/12 [==============================] - 0s 2ms/step - loss: 0.1374\n",
            "Epoch 133/150\n",
            "12/12 [==============================] - 0s 3ms/step - loss: 0.1374\n",
            "Epoch 134/150\n",
            "12/12 [==============================] - 0s 2ms/step - loss: 0.1374\n",
            "Epoch 135/150\n",
            "12/12 [==============================] - 0s 2ms/step - loss: 0.1373\n",
            "Epoch 136/150\n",
            "12/12 [==============================] - 0s 2ms/step - loss: 0.1373\n",
            "Epoch 137/150\n",
            "12/12 [==============================] - 0s 2ms/step - loss: 0.1374\n",
            "Epoch 138/150\n",
            "12/12 [==============================] - 0s 2ms/step - loss: 0.1373\n",
            "Epoch 139/150\n",
            "12/12 [==============================] - 0s 2ms/step - loss: 0.1372\n",
            "Epoch 140/150\n",
            "12/12 [==============================] - 0s 2ms/step - loss: 0.1373\n",
            "Epoch 141/150\n",
            "12/12 [==============================] - 0s 2ms/step - loss: 0.1374\n",
            "Epoch 142/150\n",
            "12/12 [==============================] - 0s 2ms/step - loss: 0.1374\n",
            "Epoch 143/150\n",
            "12/12 [==============================] - 0s 2ms/step - loss: 0.1374\n",
            "Epoch 144/150\n",
            "12/12 [==============================] - 0s 2ms/step - loss: 0.1374\n",
            "Epoch 145/150\n",
            "12/12 [==============================] - 0s 2ms/step - loss: 0.1374\n",
            "Epoch 146/150\n",
            "12/12 [==============================] - 0s 2ms/step - loss: 0.1375\n",
            "Epoch 147/150\n",
            "12/12 [==============================] - 0s 2ms/step - loss: 0.1374\n",
            "Epoch 148/150\n",
            "12/12 [==============================] - 0s 2ms/step - loss: 0.1373\n",
            "Epoch 149/150\n",
            "12/12 [==============================] - 0s 2ms/step - loss: 0.1374\n",
            "Epoch 150/150\n",
            "12/12 [==============================] - 0s 2ms/step - loss: 0.1374\n",
            "1/1 [==============================] - 0s 42ms/step\n",
            "accuracy: 0.7\n"
          ]
        }
      ]
    },
    {
      "cell_type": "code",
      "source": [
        "plot_decision_boundary(model=model, arrayX=dataset.trainX, arrayY=dataset.trainY, N_gridpoints=40)"
      ],
      "metadata": {
        "colab": {
          "base_uri": "https://localhost:8080/",
          "height": 282
        },
        "id": "OrR43Ttpu2Hz",
        "outputId": "0a1a570f-5986-418d-bf8a-0975198b0962"
      },
      "execution_count": 86,
      "outputs": [
        {
          "output_type": "stream",
          "name": "stdout",
          "text": [
            "50/50 [==============================] - 0s 2ms/step\n"
          ]
        },
        {
          "output_type": "display_data",
          "data": {
            "text/plain": [
              "<Figure size 432x288 with 1 Axes>"
            ],
            "image/png": "[encoded data removed]"
          },
          "metadata": {
            "needs_background": "light"
          }
        }
      ]
    },
    {
      "cell_type": "markdown",
      "source": [
        "#Multiclass"
      ],
      "metadata": {
        "id": "X4DBiDDmv6Jk"
      }
    },
    {
      "cell_type": "code",
      "source": [
        "def create_normal_distributed_data(classes_scale: int, intersect_rate: float) -> DataSet:\n",
        "    np.random.seed(0)\n",
        "    l = classes_scale\n",
        "    n = 2\n",
        "    drop = intersect_rate\n",
        "\n",
        "    X0 = np.array([[-2, -2]]) + drop * np.random.randn(l, n)\n",
        "    X1 = np.array([[-2, 2]]) + drop * np.random.randn(l, n)\n",
        "    X2 = np.array([[2, -2]]) + drop * np.random.randn(l, n)\n",
        "    X3 = np.array([[2, 2]]) + drop * np.random.randn(l, n)\n",
        "\n",
        "    # конкатенируем все в одну матрицу\n",
        "    # при этом по 20 точек оставим на тест/валидацию\n",
        "    X = np.vstack((X0[10:], X1[10:], X2[10:], X3[10:]))\n",
        "    ValX = np.vstack((X0[:10], X1[:10], X2[:10], X3[:10]))\n",
        "\n",
        "    # конкатенируем все в один столбец с соответствующими значениями для класса 0 или 1\n",
        "    y = np.hstack([[0] * (l - 10), [1] * (l - 10), [2] * (l - 10), [3] * (l - 10)])\n",
        "    ValY = np.hstack([[0] * 10, [1] * 10, [2] * 10, [3] * 10])\n",
        "\n",
        "    return DataSet(trainX=X, trainY=y, testX=ValX, testY=ValY)\n",
        "\n",
        "\n",
        "def create_data_set(classes_scale: int, intersect_rate: float) -> DataSet:\n",
        "    # из этого можно сделать некоторую общую библиотеку\n",
        "    return create_normal_distributed_data(classes_scale, intersect_rate)"
      ],
      "metadata": {
        "id": "Rm6_qUFHv5bx"
      },
      "execution_count": 90,
      "outputs": []
    },
    {
      "cell_type": "code",
      "source": [
        "dataset = create_data_set(classes_scale=100, intersect_rate=0.5)"
      ],
      "metadata": {
        "id": "gCvU_anowDAq"
      },
      "execution_count": 91,
      "outputs": []
    },
    {
      "cell_type": "code",
      "source": [
        "lgr = LogisticRegression()\n",
        "lgr.fit(dataset.trainX, dataset.trainY)\n",
        "predictions = lgr.predict(dataset.testX)\n",
        "print(f'accuracy: {accuracy_score(predictions, dataset.testY)}')"
      ],
      "metadata": {
        "colab": {
          "base_uri": "https://localhost:8080/"
        },
        "id": "PjE_YZCtwMfN",
        "outputId": "dce3f93f-e121-439e-fa66-8b9087206c82"
      },
      "execution_count": 92,
      "outputs": [
        {
          "output_type": "stream",
          "name": "stdout",
          "text": [
            "accuracy: 1.0\n"
          ]
        }
      ]
    },
    {
      "cell_type": "code",
      "source": [
        "knn = KNeighborsClassifier()\n",
        "knn.fit(dataset.trainX, dataset.trainY)\n",
        "predictions = knn.predict(dataset.testX)\n",
        "print(f'accuracy: {accuracy_score(predictions, dataset.testY)}')"
      ],
      "metadata": {
        "colab": {
          "base_uri": "https://localhost:8080/"
        },
        "id": "p1b6QwJ6xVS1",
        "outputId": "94f0b31a-2293-4def-8b6a-2bf03470f9e5"
      },
      "execution_count": 93,
      "outputs": [
        {
          "output_type": "stream",
          "name": "stdout",
          "text": [
            "accuracy: 1.0\n"
          ]
        }
      ]
    },
    {
      "cell_type": "code",
      "source": [
        "def plot_decision_boudary(model, dataset: DataSet, N_gridpoints: int) -> None:\n",
        "    # разбиваем область на точки\n",
        "    _xx, _yy = np.linspace(-4, 4, N_gridpoints), np.linspace(-4, 4, N_gridpoints)\n",
        "\n",
        "    _zz = np.zeros_like(_xx)\n",
        "\n",
        "\n",
        "    points = []\n",
        "    for i in range(N_gridpoints):\n",
        "        for j in range(N_gridpoints):\n",
        "            points.append([_xx[i], _yy[j]])\n",
        "\n",
        "    _zz = model.predict(points)\n",
        "\n",
        "    _zz = [_zz[i] for i in range(len(_zz))]\n",
        "\n",
        "    colors = ['pink', 'purple', 'blue', 'red']\n",
        "\n",
        "    for i in range(len(points)):\n",
        "        if _zz[i] == 0:\n",
        "            plt.scatter(x=points[i][0], y=points[i][1], s=150, c=colors[0], marker='s')\n",
        "        elif _zz[i] == 1:\n",
        "            plt.scatter(x=points[i][0], y=points[i][1], s=150, c=colors[1], marker='s')\n",
        "        elif _zz[i] == 2:\n",
        "            plt.scatter(x=points[i][0], y=points[i][1], s=150, c=colors[2], marker='s')\n",
        "        elif _zz[i] == 3:\n",
        "            plt.scatter(x=points[i][0], y=points[i][1], s=150, c=colors[3], marker='s')\n",
        "\n",
        "    dataset_colors = ['green', 'yellow', 'black', 'orange']\n",
        "\n",
        "    for k in np.unique(dataset.trainY):\n",
        "        plt.plot(dataset.trainX[dataset.trainY == k, 0], dataset.trainX[dataset.trainY == k, 1], 'o', label=f'class {k} + {colors[k]}',\n",
        "                 color=dataset_colors[k])\n",
        "\n",
        "    plt.legend(fontsize=7, ncol=1, facecolor='oldlace', edgecolor='r')\n",
        "    plt.show()"
      ],
      "metadata": {
        "id": "OF8bR39-xXrE"
      },
      "execution_count": 98,
      "outputs": []
    },
    {
      "cell_type": "code",
      "source": [
        "plot_decision_boudary(model=knn, dataset=dataset, N_gridpoints=40)"
      ],
      "metadata": {
        "colab": {
          "base_uri": "https://localhost:8080/",
          "height": 265
        },
        "id": "VCddFLiexvNO",
        "outputId": "9e330d48-9931-4422-a568-e4186d3d4f5a"
      },
      "execution_count": 99,
      "outputs": [
        {
          "output_type": "display_data",
          "data": {
            "text/plain": [
              "<Figure size 432x288 with 1 Axes>"
            ],
            "image/png": "[encoded data removed]"
          },
          "metadata": {
            "needs_background": "light"
          }
        }
      ]
    },
    {
      "cell_type": "code",
      "source": [
        "def create_normal_distributed_data(classes_scale: int, intersect_rate: float) -> DataSet:\n",
        "    np.random.seed(0)\n",
        "    l = classes_scale\n",
        "    n = 2\n",
        "    drop = intersect_rate\n",
        "\n",
        "    X0 = np.array([[-2, -2]]) + drop * np.random.randn(l, n)\n",
        "    X1 = np.array([[-2, 2]]) + drop * np.random.randn(l, n)\n",
        "    X2 = np.array([[2, -2]]) + drop * np.random.randn(l, n)\n",
        "    X3 = np.array([[2, 2]]) + drop * np.random.randn(l, n)\n",
        "\n",
        "    # конкатенируем все в одну матрицу\n",
        "    # при этом по 20 точек оставим на тест/валидацию\n",
        "    X = np.vstack((X0[10:], X1[10:], X2[10:], X3[10:]))\n",
        "    ValX = np.vstack((X0[:10], X1[:10], X2[:10], X3[:10]))\n",
        "\n",
        "    # конкатенируем все в один столбец с соответствующими значениями для класса 0 или 1\n",
        "    y = np.hstack([[0] * (l - 10), [0] * (l - 10), [1] * (l - 10), [1] * (l - 10)])\n",
        "    ValY = np.hstack([[0] * 10, [0] * 10, [1] * 10, [1] * 10])\n",
        "\n",
        "    return DataSet(trainX=X, trainY=y, testX=ValX, testY=ValY)\n",
        "\n",
        "\n",
        "def create_data_set(classes_scale: int, intersect_rate: float) -> DataSet:\n",
        "    # из этого можно сделать некоторую общую библиотеку\n",
        "    return create_normal_distributed_data(classes_scale, intersect_rate)"
      ],
      "metadata": {
        "id": "wS9D4v7IzFrW"
      },
      "execution_count": 100,
      "outputs": []
    },
    {
      "cell_type": "code",
      "source": [
        "dataset = create_data_set(classes_scale=100, intersect_rate=0.5)"
      ],
      "metadata": {
        "id": "MTjAAc-fzUmE"
      },
      "execution_count": 101,
      "outputs": []
    },
    {
      "cell_type": "code",
      "source": [
        "knn = KNeighborsClassifier()\n",
        "knn.fit(dataset.trainX, dataset.trainY)\n",
        "predictions = knn.predict(dataset.testX)\n",
        "print(f'accuracy: {accuracy_score(predictions, dataset.testY)}')"
      ],
      "metadata": {
        "colab": {
          "base_uri": "https://localhost:8080/"
        },
        "id": "bq0QY_JZy9sf",
        "outputId": "a866d00e-fa70-468a-98a5-829f7cd09614"
      },
      "execution_count": 102,
      "outputs": [
        {
          "output_type": "stream",
          "name": "stdout",
          "text": [
            "accuracy: 1.0\n"
          ]
        }
      ]
    },
    {
      "cell_type": "code",
      "source": [
        "plot_decision_boudary(model=knn, dataset=dataset, N_gridpoints=40)"
      ],
      "metadata": {
        "colab": {
          "base_uri": "https://localhost:8080/",
          "height": 265
        },
        "id": "JTEm0msDzXaA",
        "outputId": "d636fa40-2e8a-4cc5-894d-06f1a2238179"
      },
      "execution_count": 103,
      "outputs": [
        {
          "output_type": "display_data",
          "data": {
            "text/plain": [
              "<Figure size 432x288 with 1 Axes>"
            ],
            "image/png": "[encoded data removed]"
          },
          "metadata": {
            "needs_background": "light"
          }
        }
      ]
    }
  ]
}